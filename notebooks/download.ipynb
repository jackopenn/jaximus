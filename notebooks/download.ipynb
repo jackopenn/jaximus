{
 "cells": [
  {
   "cell_type": "code",
   "execution_count": null,
   "id": "78640186",
   "metadata": {},
   "outputs": [],
   "source": [
    "df.write_parquet(\"saved/HuggingFaceFW/fineweb-edu/sample-10BT\")"
   ]
  },
  {
   "cell_type": "code",
   "execution_count": 3,
   "id": "df1cb74e",
   "metadata": {},
   "outputs": [],
   "source": [
    "import polars as pl\n",
    "\n",
    "# Login using e.g. `huggingface-cli login` to access this dataset\n",
    "df = pl.read_parquet('hf://datasets/HuggingFaceFW/fineweb-edu/sample/10BT/*.parquet')\n"
   ]
  },
  {
   "cell_type": "code",
   "execution_count": 7,
   "id": "14476e30",
   "metadata": {},
   "outputs": [],
   "source": [
    "import os\n",
    "import math\n",
    "path = \"saved/HuggingFaceFW/fineweb-edu/sample-10BT\"\n",
    "os.makedirs(path, exist_ok=True)"
   ]
  }
 ],
 "metadata": {
  "kernelspec": {
   "display_name": ".venv",
   "language": "python",
   "name": "python3"
  },
  "language_info": {
   "codemirror_mode": {
    "name": "ipython",
    "version": 3
   },
   "file_extension": ".py",
   "mimetype": "text/x-python",
   "name": "python",
   "nbconvert_exporter": "python",
   "pygments_lexer": "ipython3",
   "version": "3.13.7"
  }
 },
 "nbformat": 4,
 "nbformat_minor": 5
}
