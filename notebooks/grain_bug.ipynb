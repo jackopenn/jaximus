{
 "cells": [
  {
   "cell_type": "code",
   "execution_count": 1,
   "id": "9a729528",
   "metadata": {},
   "outputs": [
    {
     "name": "stdout",
     "output_type": "stream",
     "text": [
      "3.11.9\n",
      "0.2.11\n",
      "{'tokens': [10, 10, 10, 10, 10, 10, 10, 10, 10, 10]}\n",
      "{'tokens': [11, 11, 11, 11, 11, 11, 11, 11, 11, 11, 11]}\n",
      "{'tokens': [12, 12, 12, 12, 12, 12, 12, 12, 12, 12, 12, 12]}\n",
      "{'tokens': [13, 13, 13, 13, 13, 13, 13, 13, 13, 13, 13, 13, 13]}\n",
      "{'tokens': [14, 14, 14, 14, 14, 14, 14, 14, 14, 14, 14, 14, 14, 14]}\n",
      "{'tokens': [15, 15, 15, 15, 15, 15, 15, 15, 15, 15, 15, 15, 15, 15, 15]}\n",
      "{'tokens': [16, 16, 16, 16, 16, 16, 16, 16, 16, 16, 16, 16, 16, 16, 16, 16]}\n",
      "{'tokens': [17, 17, 17, 17, 17, 17, 17, 17, 17, 17, 17, 17, 17, 17, 17, 17, 17]}\n",
      "{'tokens': [18, 18, 18, 18, 18, 18, 18, 18, 18, 18, 18, 18, 18, 18, 18, 18, 18, 18]}\n",
      "{'tokens': [19, 19, 19, 19, 19, 19, 19, 19, 19, 19, 19, 19, 19, 19, 19, 19, 19, 19, 19]}\n",
      "\n",
      "{'tokens': array([10, 10, 10, 10, 10, 10, 10]), 'tokens_segment_ids': array([1, 1, 1, 1, 1, 1, 1], dtype=int32), 'tokens_positions': array([0, 1, 2, 3, 4, 5, 6], dtype=int32)}\n",
      "\n",
      "{'tokens': array([10, 10, 10, 11, 11, 11, 11]), 'tokens_segment_ids': array([1, 1, 1, 2, 2, 2, 2], dtype=int32), 'tokens_positions': array([0, 1, 2, 0, 1, 2, 3], dtype=int32)}\n",
      "\n",
      "{'tokens': array([11, 11, 11, 11, 11, 11, 11]), 'tokens_segment_ids': array([1, 1, 1, 1, 1, 1, 1], dtype=int32), 'tokens_positions': array([0, 1, 2, 3, 4, 5, 6], dtype=int32)}\n",
      "\n",
      "{'tokens': array([12, 12, 12, 12, 12, 12, 12]), 'tokens_segment_ids': array([1, 1, 1, 1, 1, 1, 1], dtype=int32), 'tokens_positions': array([0, 1, 2, 3, 4, 5, 6], dtype=int32)}\n",
      "\n",
      "{'tokens': array([12, 12, 12, 12, 12, 13, 13]), 'tokens_segment_ids': array([1, 1, 1, 1, 1, 2, 2], dtype=int32), 'tokens_positions': array([0, 1, 2, 3, 4, 0, 1], dtype=int32)}\n",
      "\n",
      "{'tokens': array([13, 13, 13, 13, 13, 13, 13]), 'tokens_segment_ids': array([1, 1, 1, 1, 1, 1, 1], dtype=int32), 'tokens_positions': array([0, 1, 2, 3, 4, 5, 6], dtype=int32)}\n",
      "\n",
      "{'tokens': array([13, 13, 13, 13, 14, 14, 14]), 'tokens_segment_ids': array([1, 1, 1, 1, 2, 2, 2], dtype=int32), 'tokens_positions': array([0, 1, 2, 3, 0, 1, 2], dtype=int32)}\n",
      "\n",
      "{'tokens': array([14, 14, 14, 14, 14, 14, 14]), 'tokens_segment_ids': array([1, 1, 1, 1, 1, 1, 1], dtype=int32), 'tokens_positions': array([0, 1, 2, 3, 4, 5, 6], dtype=int32)}\n",
      "\n",
      "{'tokens': array([14, 14, 14, 14, 15, 15, 15]), 'tokens_segment_ids': array([1, 1, 1, 1, 2, 2, 2], dtype=int32), 'tokens_positions': array([0, 1, 2, 3, 0, 1, 2], dtype=int32)}\n",
      "\n",
      "{'tokens': array([15, 15, 15, 15, 15, 15, 15]), 'tokens_segment_ids': array([1, 1, 1, 1, 1, 1, 1], dtype=int32), 'tokens_positions': array([0, 1, 2, 3, 4, 5, 6], dtype=int32)}\n",
      "\n",
      "{'tokens': array([15, 15, 15, 15, 15, 16, 16]), 'tokens_segment_ids': array([1, 1, 1, 1, 1, 2, 2], dtype=int32), 'tokens_positions': array([0, 1, 2, 3, 4, 0, 1], dtype=int32)}\n",
      "\n",
      "{'tokens': array([16, 16, 16, 16, 16, 16, 16]), 'tokens_segment_ids': array([1, 1, 1, 1, 1, 1, 1], dtype=int32), 'tokens_positions': array([0, 1, 2, 3, 4, 5, 6], dtype=int32)}\n",
      "\n",
      "{'tokens': array([16, 16, 16, 16, 16, 16, 16]), 'tokens_segment_ids': array([1, 1, 1, 1, 1, 1, 1], dtype=int32), 'tokens_positions': array([0, 1, 2, 3, 4, 5, 6], dtype=int32)}\n",
      "\n",
      "{'tokens': array([17, 17, 17, 17, 17, 17, 17]), 'tokens_segment_ids': array([1, 1, 1, 1, 1, 1, 1], dtype=int32), 'tokens_positions': array([0, 1, 2, 3, 4, 5, 6], dtype=int32)}\n",
      "\n",
      "{'tokens': array([17, 17, 17, 17, 17, 17, 17]), 'tokens_segment_ids': array([1, 1, 1, 1, 1, 1, 1], dtype=int32), 'tokens_positions': array([0, 1, 2, 3, 4, 5, 6], dtype=int32)}\n",
      "\n",
      "{'tokens': array([17, 17, 17, 18, 18, 18, 18]), 'tokens_segment_ids': array([1, 1, 1, 2, 2, 2, 2], dtype=int32), 'tokens_positions': array([0, 1, 2, 0, 1, 2, 3], dtype=int32)}\n",
      "\n",
      "{'tokens': array([18, 18, 18, 18, 18, 18, 18]), 'tokens_segment_ids': array([1, 1, 1, 1, 1, 1, 1], dtype=int32), 'tokens_positions': array([0, 1, 2, 3, 4, 5, 6], dtype=int32)}\n",
      "\n",
      "{'tokens': array([18, 18, 18, 18, 18, 18, 18]), 'tokens_segment_ids': array([1, 1, 1, 1, 1, 1, 1], dtype=int32), 'tokens_positions': array([0, 1, 2, 3, 4, 5, 6], dtype=int32)}\n",
      "\n",
      "{'tokens': array([19, 19, 19, 19, 19, 19, 19]), 'tokens_segment_ids': array([1, 1, 1, 1, 1, 1, 1], dtype=int32), 'tokens_positions': array([0, 1, 2, 3, 4, 5, 6], dtype=int32)}\n",
      "\n",
      "{'tokens': array([19, 19, 19, 19, 19, 19, 19]), 'tokens_segment_ids': array([1, 1, 1, 1, 1, 1, 1], dtype=int32), 'tokens_positions': array([0, 1, 2, 3, 4, 5, 6], dtype=int32)}\n",
      "\n",
      "{'tokens': array([19, 19, 19, 19, 19,  0,  0]), 'tokens_segment_ids': array([1, 1, 1, 1, 1, 0, 0], dtype=int32), 'tokens_positions': array([0, 1, 2, 3, 4, 0, 0], dtype=int32)}\n",
      "\n"
     ]
    }
   ],
   "source": [
    "import grain\n",
    "import sys\n",
    "\n",
    "print('.'.join(map(str, sys.version_info[:3])))\n",
    "print(grain.__version__)\n",
    "\n",
    "\n",
    "dummy_dat = [{\"tokens\": [i]*i} for i in range(10, 20)]\n",
    "\n",
    "for i in dummy_dat:\n",
    "    print(i)\n",
    "print()\n",
    "\n",
    "parent = grain.MapDataset.source(dummy_dat).to_iter_dataset()\n",
    "\n",
    "# for i in parent:\n",
    "#     print(i)\n",
    "# print()\n",
    "\n",
    "ds = (\n",
    "    grain.experimental.ConcatThenSplitIterDataset(\n",
    "        parent=parent,\n",
    "        length_struct={\"tokens\": 7},\n",
    "        meta_features=[],\n",
    "        split_full_length_features=True,\n",
    "    )\n",
    ")\n",
    "\n",
    "c = 0\n",
    "for i in ds:\n",
    "    print(i)\n",
    "    print()\n",
    "    c += 1\n",
    "    if c > 20:\n",
    "        break"
   ]
  },
  {
   "cell_type": "code",
   "execution_count": 2,
   "id": "173e6936",
   "metadata": {},
   "outputs": [
    {
     "name": "stdout",
     "output_type": "stream",
     "text": [
      "[1 1 2]\n",
      "\n",
      "[2 2 2]\n",
      "\n",
      "[2 0 0]\n",
      "\n"
     ]
    }
   ],
   "source": [
    "import grain\n",
    "\n",
    "parent = grain.MapDataset.source([\n",
    "    {\"tokens\": [1]*2},   # len=2\n",
    "    {\"tokens\": [2]*5},   # len=5\n",
    "]).to_iter_dataset()\n",
    "\n",
    "ds = grain.experimental.ConcatThenSplitIterDataset(\n",
    "    parent=parent,\n",
    "    length_struct={\"tokens\": 3},\n",
    "    split_full_length_features=True,\n",
    ")\n",
    "\n",
    "for x in ds:\n",
    "    print(x[\"tokens\"])\n",
    "    print()\n"
   ]
  },
  {
   "cell_type": "code",
   "execution_count": 1,
   "id": "fccef03e",
   "metadata": {},
   "outputs": [
    {
     "data": {
      "text/plain": [
       "[1, 2, 4, 6, 7]"
      ]
     },
     "execution_count": 1,
     "metadata": {},
     "output_type": "execute_result"
    }
   ],
   "source": [
    "sorted([4,2,7,1,6])"
   ]
  },
  {
   "cell_type": "code",
   "execution_count": 7,
   "id": "4548ead1",
   "metadata": {},
   "outputs": [
    {
     "name": "stdout",
     "output_type": "stream",
     "text": [
      "here\n"
     ]
    }
   ],
   "source": [
    "if 1:\n",
    "    print(\"here\")\n",
    "else:\n",
    "    print(\"here2\")"
   ]
  }
 ],
 "metadata": {
  "kernelspec": {
   "display_name": ".venv",
   "language": "python",
   "name": "python3"
  },
  "language_info": {
   "codemirror_mode": {
    "name": "ipython",
    "version": 3
   },
   "file_extension": ".py",
   "mimetype": "text/x-python",
   "name": "python",
   "nbconvert_exporter": "python",
   "pygments_lexer": "ipython3",
   "version": "3.11.9"
  }
 },
 "nbformat": 4,
 "nbformat_minor": 5
}
